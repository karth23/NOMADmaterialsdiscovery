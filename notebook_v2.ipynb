{
  "cells": [
    {
      "metadata": {
        "_cell_guid": "dd98c573-eb2e-4677-8748-5ecb54a48bbf",
        "_uuid": "a1a943810d70024071b076f0dff0a19ad23ea0cf",
        "trusted": false,
        "collapsed": true
      },
      "cell_type": "code",
      "source": "# This Python 3 environment comes with many helpful analytics libraries installed\n# It is defined by the kaggle/python docker image: https://github.com/kaggle/docker-python\n# For example, here's several helpful packages to load in \n\nimport numpy as np # linear algebra\n\nimport matplotlib.pyplot as plt\nimport pandas as pd # data processing, CSV file I/O (e.g. pd.read_csv)\n\n# Input data files are available in the \"../input/\" directory.\n# For example, running this (by clicking run or pressing Shift+Enter) will list the files in the input directory\n\nfrom subprocess import check_output\nprint(check_output([\"ls\", \"../input\"]).decode(\"utf8\"))\nimport seaborn as sns\n\n# Any results you write to the current directory are saved as output.",
      "execution_count": null,
      "outputs": []
    },
    {
      "metadata": {
        "collapsed": true,
        "_uuid": "857df1428499cf41ed95e2f8282ff2a04ce036e1",
        "_cell_guid": "588a9fcf-036d-4aa7-8eb9-f57287613722",
        "trusted": false
      },
      "cell_type": "code",
      "source": "df_train = pd.read_csv(\"../input/train.csv\",names=['id','spacegroup','numatoms','peral','perga','perin','a','b','c','alpha','beta','gamma','E0','Eg'],skiprows=1)\ndf_topredict = pd.read_csv(\"../input/test.csv\",names=['id','spacegroup','numatoms','peral','perga','perin','a','b','c','alpha','beta','gamma'],skiprows=1)",
      "execution_count": null,
      "outputs": []
    },
    {
      "metadata": {
        "_cell_guid": "6c91eb69-6346-45bd-98bc-13bbc5a0c1e6",
        "_uuid": "8f629c9d98307a2bebd12781a183a8d75546863d"
      },
      "cell_type": "markdown",
      "source": "Lets go ahead and see what the data to train on and the data to predict on looks like"
    },
    {
      "metadata": {
        "_cell_guid": "6cb50744-63ae-4646-8bd0-8cc77853c908",
        "_uuid": "da730ebbf7cd7a1ea119863b5500f7bd45803299",
        "trusted": false,
        "collapsed": true
      },
      "cell_type": "code",
      "source": "df_train.head()",
      "execution_count": null,
      "outputs": []
    },
    {
      "metadata": {
        "_cell_guid": "b071a185-973f-4dfc-9f25-5c5a472f728f",
        "_uuid": "bac21a8be0a6db649b134ca3bd567b4c521c1178",
        "trusted": false,
        "collapsed": true
      },
      "cell_type": "code",
      "source": "\ndf_topredict.head()",
      "execution_count": null,
      "outputs": []
    },
    {
      "metadata": {
        "collapsed": true,
        "_uuid": "e2f8c28f7cce77d39d251f0f05aac984794ca8bb",
        "_cell_guid": "6a3927aa-9ace-4437-942c-b70284500577",
        "trusted": false
      },
      "cell_type": "code",
      "source": "df_cpy = df_train.copy()\ndf_topredictcpy = df_topredict.copy()\n",
      "execution_count": null,
      "outputs": []
    },
    {
      "metadata": {
        "_cell_guid": "4f9105b8-78bb-4f4e-b85e-b25e2538957f",
        "_uuid": "eacaacb68037e55a6c360f1d95c73b3ab927a6b3",
        "trusted": false,
        "collapsed": true
      },
      "cell_type": "code",
      "source": "df_cpy.info()",
      "execution_count": null,
      "outputs": []
    },
    {
      "metadata": {
        "_cell_guid": "36cd1447-2d14-4075-a1b2-e1a85e4f357e",
        "_uuid": "4ecfdab423a1f1854fca3a2b09a987014e44dab1",
        "trusted": false,
        "collapsed": true
      },
      "cell_type": "code",
      "source": "df_cpy.isnull().sum()",
      "execution_count": null,
      "outputs": []
    },
    {
      "metadata": {
        "_cell_guid": "c19925c5-e889-41f1-80f6-ccba19eb8842",
        "_uuid": "9e0673694954099fe3a333824f22665fd4bb785d"
      },
      "cell_type": "markdown",
      "source": "So we have no null values in the dataset.Here i am rounding of the angles. It shouldn't matter much as far the prediction algorithm goes. The reason for the rounding of the angles is that crystal structures usually have well defined angles (90, 90, 90 for cubic; 90,90,120 for hexagonal and so on)."
    },
    {
      "metadata": {
        "_cell_guid": "cced259a-c62c-41f6-8ac1-c0f12d623706",
        "_uuid": "06855ce072aff6aaa587c82ffe59bba2af56c06b"
      },
      "cell_type": "markdown",
      "source": "So, lets go ahead and see how the values the lattice angles take."
    },
    {
      "metadata": {
        "_cell_guid": "fb6283a3-7a0f-4765-b394-4994cda724f3",
        "_uuid": "2f2db4880f45f4ce5c0a64fe0e7a1fd5d95cf6a0",
        "trusted": false,
        "collapsed": true
      },
      "cell_type": "code",
      "source": "f,ax = plt.subplots(1,3,figsize=(10,3))\nax[0].hist(df_cpy['alpha'].unique())\nax[0].set_title(\"Histogram plot of alpha\")\nax[0].set_xlabel(\"alpha\")\nax[1].hist(df_cpy['beta'].unique())\nax[1].set_title(\"Histogram plot of beta\")\nax[1].set_xlabel(\"beta\")\nax[2].hist(df_cpy['gamma'].unique())\nax[2].set_title(\"Histogram plot of gamma\")\nax[2].set_xlabel(\"gamma\")",
      "execution_count": null,
      "outputs": []
    },
    {
      "metadata": {
        "collapsed": true,
        "_uuid": "96a9f867365356afd0453079b5f26a4317d19994",
        "_cell_guid": "2f36cea4-80d7-44fb-8565-7fda3f959ff2",
        "trusted": false
      },
      "cell_type": "code",
      "source": "df_cpy['alpha'] = np.round(df_cpy['alpha'])\ndf_cpy['beta'] = np.round(df_cpy['beta'])\ndf_cpy['gamma'] = np.round(df_cpy['gamma'])\ndf_topredictcpy['alpha'] = np.round(df_topredictcpy['alpha'])\ndf_topredictcpy['beta'] = np.round(df_topredictcpy['beta'])\ndf_topredictcpy['gamma'] = np.round(df_topredictcpy['gamma'])",
      "execution_count": null,
      "outputs": []
    },
    {
      "metadata": {
        "_cell_guid": "11d36488-e2fe-489c-bdb5-2ec4e9454cb5",
        "_uuid": "3bdec6d638f42a5e039f7929da6a3c38d15080c2"
      },
      "cell_type": "markdown",
      "source": "So we se that the lattice angles alpha and beta always take values near 90 with some variation ~10 degrees, whereas the lattice angle gamma takes on either 90 or 120 or 30 degrees. We will look into more analysis of the lattice angles/ vectors with respect to individual spacegroups a bit later"
    },
    {
      "metadata": {
        "_cell_guid": "06f1e027-4bc0-4f14-b093-5537b15ca3d5",
        "_uuid": "8aa13e019161c617ac3d0966e6d7a650e0b8f7f7",
        "trusted": false,
        "collapsed": true
      },
      "cell_type": "code",
      "source": "df_cpy.columns",
      "execution_count": null,
      "outputs": []
    },
    {
      "metadata": {
        "collapsed": true,
        "_uuid": "b7053d04e8d154b6ddaefd866671f2950cc8d20b",
        "_cell_guid": "f8f0f507-aa75-45a5-a3ff-62f69a9cb192",
        "trusted": false
      },
      "cell_type": "code",
      "source": "cols = df_cpy[['peral','perga','perin','a','b','c','alpha','beta','gamma','E0','Eg']]",
      "execution_count": null,
      "outputs": []
    },
    {
      "metadata": {
        "_cell_guid": "5c772826-6345-4ebe-9425-f792dad83a10",
        "_uuid": "ea42a1d5e46963708906d80ec37d80622e724b6e"
      },
      "cell_type": "markdown",
      "source": "**Plotting the features with respect to other features**\n\nSince we have 9 features (lattice vectors, lattice angles, composition) and the formation enthalpy and band gap, the plots of the features look quite cluttered. For the time being let us just look at a bird's eye view of the these features and then focus more on the features which show more correlation later"
    },
    {
      "metadata": {
        "_cell_guid": "154090c5-00b2-4293-b4da-6c2e5fda8e0c",
        "_uuid": "7183d2ce1bdd31d4a2e75296975a51301322b064",
        "trusted": false,
        "collapsed": true
      },
      "cell_type": "code",
      "source": "\nsns.pairplot(cols, diag_kind=\"kde\",size=3,aspect=1)\n",
      "execution_count": null,
      "outputs": []
    },
    {
      "metadata": {
        "_cell_guid": "3dee34ca-f63f-4b9d-816d-337360d09e61",
        "_uuid": "ab7b57d9ca3148ce82f42a58cb9b9cdeed062dba",
        "trusted": false,
        "collapsed": true
      },
      "cell_type": "code",
      "source": "f,ax = plt.subplots(5,3,figsize=(20,20))\nax[0,0].plot(df_cpy['alpha'],df_cpy['beta'],'ro')\nax[0,0].set_xlabel(\"alpha\",fontweight='bold',fontsize=16)\nax[0,0].set_ylabel(\"beta\",fontweight='bold',fontsize=16)\nax[0,1].plot(df_cpy['alpha'],df_cpy['gamma'],'bo')\nax[0,1].set_xlabel(\"alpha\",fontweight='bold',fontsize=16)\nax[0,1].set_ylabel(\"gamma\",fontweight='bold',fontsize=16)\nax[0,2].plot(df_cpy['beta'],df_cpy['gamma'],'go')\nax[0,2].set_xlabel(\"beta\",fontweight='bold',fontsize=16)\nax[0,2].set_ylabel(\"gamma\",fontweight='bold',fontsize=16)\nax[1,0].plot(df_cpy['alpha'],df_cpy['a'],'ro')\nax[1,0].set_xlabel(\"alpha\",fontweight='bold',fontsize=16)\nax[1,0].set_ylabel(\"a\",fontweight='bold',fontsize=16)\nax[1,1].plot(df_cpy['alpha'],df_cpy['b'],'bo')\nax[1,1].set_xlabel(\"alpha\",fontweight='bold',fontsize=16)\nax[1,1].set_ylabel(\"b\",fontweight='bold',fontsize=16)\nax[1,2].plot(df_cpy['alpha'],df_cpy['c'],'go')\nax[1,2].set_xlabel(\"alpha\",fontweight='bold',fontsize=16)\nax[1,2].set_ylabel(\"c\",fontweight='bold',fontsize=16)\nax[2,0].plot(df_cpy['beta'],df_cpy['a'],'ro')\nax[2,0].set_xlabel(\"beta\",fontweight='bold',fontsize=16)\nax[2,0].set_ylabel(\"a\",fontweight='bold',fontsize=16)\nax[2,1].plot(df_cpy['beta'],df_cpy['b'],'bo')\nax[2,1].set_xlabel(\"beta\",fontweight='bold',fontsize=16)\nax[2,1].set_ylabel(\"b\",fontweight='bold',fontsize=16)\nax[2,2].plot(df_cpy['beta'],df_cpy['c'],'go')\nax[2,2].set_xlabel(\"beta\",fontweight='bold',fontsize=16)\nax[2,2].set_ylabel(\"c\",fontweight='bold',fontsize=16)\nax[3,0].plot(df_cpy['gamma'],df_cpy['a'],'ro')\nax[3,0].set_xlabel(\"gamma\",fontweight='bold',fontsize=16)\nax[3,0].set_ylabel(\"a\",fontweight='bold',fontsize=16)\nax[3,1].plot(df_cpy['gamma'],df_cpy['b'],'bo')\nax[3,1].set_xlabel(\"gamma\",fontweight='bold',fontsize=16)\nax[3,1].set_ylabel(\"b\",fontweight='bold')\nax[3,2].plot(df_cpy['gamma'],df_cpy['c'],'go')\nax[3,2].set_xlabel(\"gamma\",fontweight='bold',fontsize=16)\nax[3,2].set_ylabel(\"c\",fontweight='bold',fontsize=16)\nax[4,0].plot(df_cpy['a'],df_cpy['b'],'ro')\nax[4,0].set_xlabel(\"a\",fontweight='bold',fontsize=16)\nax[4,0].set_ylabel(\"b\",fontweight='bold',fontsize=16)\nax[4,1].plot(df_cpy['b'],df_cpy['c'],'bo')\nax[4,1].set_xlabel(\"b\",fontweight='bold',fontsize=16)\nax[4,1].set_ylabel(\"c\",fontweight='bold',fontsize=16)\nax[4,2].plot(df_cpy['a'],df_cpy['c'],'go')\nax[4,2].set_xlabel(\"a\",fontweight='bold',fontsize=16)\nax[4,2].set_ylabel(\"c\",fontweight='bold',fontsize=16)",
      "execution_count": null,
      "outputs": []
    },
    {
      "metadata": {
        "_cell_guid": "3901df32-99ed-4035-82a8-840ba47d45ea",
        "_uuid": "07e3128659764d9a2f516ae7d60a17c44a066efd"
      },
      "cell_type": "markdown",
      "source": "So we see that there is a strong positive correlation  between alpha and beta, "
    },
    {
      "metadata": {
        "_cell_guid": "95bf5a7a-e039-451a-9ef6-e2e2d24f1612",
        "_uuid": "13edecd23a07919c42b267fcf67ace8658c71d5d"
      },
      "cell_type": "markdown",
      "source": "**Correlation Matrix**\n\nThe correlation matrix is similar to the pair plotting of the features we saw above but is more quantitative and helps us understand more which the plots dont give away readily. Now lets go ahead and see how the features are correlated and see if they have any similarities."
    },
    {
      "metadata": {
        "_cell_guid": "f8471c04-8134-4387-895c-884883a60abe",
        "_uuid": "bbf97d6763059f5985807aaa93d468262302ab1f",
        "trusted": false,
        "collapsed": true
      },
      "cell_type": "code",
      "source": "cols = df_cpy[['spacegroup','alpha','beta','gamma','peral','perga','perin','a','b','c']]\ncorrmat = cols.corr(method='spearman')\nplt.subplots(figsize=(15,12))\nsns.heatmap(corrmat, vmax=1., square=True,annot=True,robust=True)",
      "execution_count": null,
      "outputs": []
    },
    {
      "metadata": {
        "_cell_guid": "e98becec-496b-4172-ab57-97485d5644d6",
        "_uuid": "f70c9c0e13b2eea341f852552d79b5e2677dfd89"
      },
      "cell_type": "markdown",
      "source": "I focus only on the pairs whcih yield high values of correlation (ie >0.3) because a lot of the cases below this value might purley be an artifact of the dataset. Let us start with the lattice angles. \n\nAlpha has a strong positive correlation with beta, a strong negative correlation with gamma.\n\nBeta has a strong positive correlation with alpha, a strong negative correlation with gamma, a very strong positive correlation with a, and strong negative correlations with b,c.\n\nGamma has strong negative correlations with alpha, beta, b, strong positive correlation with c and a very strong negative correlation with a.\n\nperal (aluminium composition) has strong negative correlations with per in (indium composition) and per ga (gallium composition). \n\nperga (gallium composition) has strong negative correlations with per al  and per in. \n\nperin (indium composition) has strong negative correlations with per al  and per ga and a strong positive b \n\n\n.  In principle, that is not the case expected in crystal systems as the lattice angles are fully independent to vary with respect to each other. So this correlation might strongly be influenced by the particular dataset we are looking at.  Lets plot these angles wrt to each other and see how they vary.\n"
    },
    {
      "metadata": {
        "_cell_guid": "4e78d649-8fbd-47b4-822f-2c058178f511",
        "_uuid": "3c981b229e002a18759f9c2f80820f75289069d0"
      },
      "cell_type": "markdown",
      "source": ""
    },
    {
      "metadata": {
        "collapsed": true,
        "_uuid": "bd166d6e1d9cfcb99e321a870253bf8131e01b9e",
        "_cell_guid": "4d8c235a-f0a2-4d7a-9733-0ea17fac5b92"
      },
      "cell_type": "markdown",
      "source": "Now, lets look at the different spacegroups and see what spacegroups the structures are taken from. "
    },
    {
      "metadata": {
        "_cell_guid": "556ebc33-3808-4407-9a27-aee40ee7ec55",
        "_uuid": "380978128067d631cbd0ea6fd38dc9e9346ee775",
        "trusted": false,
        "collapsed": true
      },
      "cell_type": "code",
      "source": "sorted(df_cpy['spacegroup'].unique())\n",
      "execution_count": null,
      "outputs": []
    },
    {
      "metadata": {
        "_cell_guid": "83908e61-7051-443d-9ae8-fdc0fe811dd7",
        "_uuid": "5cb1bbef2a10a9fd38f124021611f7b9d22e08b2",
        "trusted": false,
        "collapsed": true
      },
      "cell_type": "code",
      "source": "sorted(df_topredictcpy['spacegroup'].unique())",
      "execution_count": null,
      "outputs": []
    },
    {
      "metadata": {
        "_cell_guid": "c3a1b546-20ad-47d5-8cc7-c5c66a5ef25c",
        "_uuid": "ce9c920ce7ec1226bf347612b790dfa88b371a04",
        "trusted": false,
        "collapsed": true
      },
      "cell_type": "code",
      "source": "df_cpy['spacegroup'].value_counts(normalize=True).plot.bar()\nplt.title(\"Distribution of spacegroups in the sample set\")\nplt.xlabel(\"Spacegroups\")\nplt.ylabel(\"% of sample set\")",
      "execution_count": null,
      "outputs": []
    },
    {
      "metadata": {
        "_cell_guid": "abd8243b-0aaa-44c9-b1db-548afef7c8aa",
        "_uuid": "7b825bf5bc5a5e8bf7653600184ad27379c6f098",
        "trusted": false,
        "collapsed": true
      },
      "cell_type": "code",
      "source": "df_topredictcpy['spacegroup'].value_counts(normalize=True).plot.bar()\nplt.title(\"Distribution of spacegroups in the sample set\")\nplt.xlabel(\"Spacegroups\")\nplt.ylabel(\"% of sample set\")",
      "execution_count": null,
      "outputs": []
    },
    {
      "metadata": {
        "collapsed": true,
        "_uuid": "cbcefacc8113c0b8f7dd7b0f4a5d15dc7fdb59e4",
        "_cell_guid": "5e02e0c4-1607-4b73-a5cc-ad61e377345a"
      },
      "cell_type": "markdown",
      "source": "So, we see that the samples used for training and samples to be predicted are from the same spacegroups. The distribution of the samples in the different spacegroups in both the training set and the set to be predicted takes a similar distribution. So, we know that the sample taken for training is a good statistical sample set.  Now lets look how the inidividual compositions are stacked up wrt to the different spacegroups. \n"
    },
    {
      "metadata": {
        "_cell_guid": "1029621f-e4a4-42a9-bb9c-842893afea2f",
        "_uuid": "fce99619962593f57321a84be2166bd189cca69d",
        "trusted": false,
        "collapsed": true
      },
      "cell_type": "code",
      "source": "sns.barplot(df_cpy['spacegroup'],df_cpy['perin'])",
      "execution_count": null,
      "outputs": []
    },
    {
      "metadata": {
        "_cell_guid": "0bdd6ecd-955b-498b-b030-6e712cd9d28f",
        "_uuid": "4a96d872ddef5afd5d5cc1578bdc62c49ba78146",
        "trusted": false,
        "collapsed": true
      },
      "cell_type": "code",
      "source": "sns.barplot(df_cpy['spacegroup'],df_cpy['perga'])",
      "execution_count": null,
      "outputs": []
    },
    {
      "metadata": {
        "_cell_guid": "b782fa96-188f-44a4-aea5-554d6919194c",
        "_uuid": "e3c0ee5f27db29ce99f9d26919b63a9d26a93dd8",
        "trusted": false,
        "collapsed": true
      },
      "cell_type": "code",
      "source": "sns.barplot(df_cpy['spacegroup'],df_cpy['peral'])",
      "execution_count": null,
      "outputs": []
    },
    {
      "metadata": {
        "_cell_guid": "6f9d9c34-45ef-4867-9942-b2c94a7401f3",
        "_uuid": "dd9935fdfa6d3fe3bd674955b7c2a4c064778783"
      },
      "cell_type": "markdown",
      "source": "So we see that the compositions of aluminium, gallium and indium pretty much have similar ranges of compositons in each spacegroup. "
    },
    {
      "metadata": {
        "_cell_guid": "139c5f3b-694a-410f-8f50-1aa608ae3f21",
        "_uuid": "542015021f9db6007d39f0288f1bdfd8583a91a0"
      },
      "cell_type": "markdown",
      "source": "Now let us look at how bandgaps and formation enthalpies vary with elemental compositions"
    },
    {
      "metadata": {
        "_cell_guid": "574a7b5b-90dc-4cc6-ba7a-1ff583d58530",
        "_uuid": "d914e6187e4cecfab2a863685b94bae6ab2352de",
        "trusted": false,
        "collapsed": true
      },
      "cell_type": "code",
      "source": "f,ax = plt.subplots(1,3,figsize=(10,3))\nax[0].plot(df_cpy['perin'],df_cpy['E0'],'ro')\nax[0].set_xlabel(\"% of Indium\")\nax[0].set_ylabel(\"Formation enthalpy  (eV)\")\nax[1].plot(df_cpy['perga'],df_cpy['E0'],'bo')\nax[1].set_xlabel(\"% of Gallium\")\nax[2].plot(df_cpy['peral'],df_cpy['E0'],'go')\nax[2].set_xlabel(\"% of Aluminium\")",
      "execution_count": null,
      "outputs": []
    },
    {
      "metadata": {
        "_cell_guid": "2cf7327b-0347-4978-8e71-26b73bba5bbb",
        "_uuid": "d74c2d9d1bfdcb5b5f575e356d253dc6439d22c6"
      },
      "cell_type": "markdown",
      "source": "We see that aluminium and indium compositions dont matter too much for the formation enthalpy, but there is a systematic decrease in the formation enthalpy with increasing gallium composition"
    },
    {
      "metadata": {
        "_cell_guid": "5ca0d7e8-5e0e-4b6f-9799-0bb736b9dbf6",
        "_uuid": "0a73c2e6ba7505ed64345852570f0dfde1152d64",
        "trusted": false,
        "collapsed": true
      },
      "cell_type": "code",
      "source": "f,ax = plt.subplots(1,3,figsize=(10,3))\nax[0].plot(df_cpy['perin'],df_cpy['Eg'],'ro')\nax[0].set_xlabel(\"% of Indium\")\nax[0].set_ylabel(\"Band Gap  (eV)\")\nax[1].plot(df_cpy['perga'],df_cpy['Eg'],'bo')\nax[1].set_xlabel(\"% of Gallium\")\nax[2].plot(df_cpy['peral'],df_cpy['Eg'],'go')\nax[2].set_xlabel(\"% of Aluminium\")",
      "execution_count": null,
      "outputs": []
    },
    {
      "metadata": {
        "_cell_guid": "e00b8819-b164-44fd-a35f-a1096b212c1e",
        "_uuid": "31c834b68af09bcb2fc7bd672522b8b3f692ecbf"
      },
      "cell_type": "markdown",
      "source": "Unlike formation enthalpies, we see some clear trends in band gap as a function of compositions. In particular, increasing aluminium and decreasing indium leads to increasing band gap values. Increase in the gallium composition however attains a range of values (depending on the aluminium and indium compositions) and tapers out to ~ 2 eV for 100 % Gallium. So ideally for high band gap values, we would want low compositions of indium, medium compositions of gallium and high compositions of Aluminium. However, high compositions of gallium lead to low formation enthalpy values. Thus we would want compounds with high compositions of gallium and aluminium"
    },
    {
      "metadata": {
        "_cell_guid": "f9280f9d-9584-4993-bf45-e34d0a607a72",
        "_uuid": "1e3f0689785d455ba9b67811db375887f019dfc7"
      },
      "cell_type": "markdown",
      "source": "\nNow,let's look at the geometric characteristics of each spacegroup based on the dataset we have"
    },
    {
      "metadata": {
        "collapsed": true,
        "_uuid": "f44181ea72574257fa9dddae6db4fa1abfe5deec",
        "_cell_guid": "3aa015c8-af4a-453d-b2f3-f46963c51d85",
        "trusted": false
      },
      "cell_type": "code",
      "source": "crystal_vectors = ['a','b','c','alpha','beta','gamma']",
      "execution_count": null,
      "outputs": []
    },
    {
      "metadata": {
        "collapsed": true,
        "_uuid": "0c92151a449f568149e246155b4537172dd9aa07",
        "_cell_guid": "53e41572-f4a6-47c2-981b-b874a94c902b",
        "trusted": false
      },
      "cell_type": "code",
      "source": "crystal_vectors_withbandandenergy = ['a','b','c','alpha','beta','gamma','Eg','E0','perin','peral','perga']",
      "execution_count": null,
      "outputs": []
    },
    {
      "metadata": {
        "_cell_guid": "71ed3feb-5ecb-452d-9358-e4a4c152b90e",
        "_uuid": "7c3e6a371bb4830c6a42fbbe201f814ddf114a7a"
      },
      "cell_type": "markdown",
      "source": "**Space group 12**\n\nThis is a monoclinic structure with the lattice vectors not being equal, two lattice angles are 90 and the other lattice angle can take any value"
    },
    {
      "metadata": {
        "_cell_guid": "44e185e4-36a1-4f67-b827-d1f99c749c25",
        "_uuid": "063943fc7cdf613b455b9d7639630b41d46cda3b",
        "trusted": false,
        "collapsed": true
      },
      "cell_type": "code",
      "source": "#plt.subplots(figsize=(15,12))\ndf_cpy[df_cpy['spacegroup']==12].hist(figsize=(12,12),column=crystal_vectors_withbandandenergy)\n",
      "execution_count": null,
      "outputs": []
    },
    {
      "metadata": {
        "_cell_guid": "a1d07449-adc6-4eb0-a124-9017bb2aa0a1",
        "_uuid": "7e1e2e0ed9edb06ce6356a145c1e0152cf7c95a7",
        "trusted": false,
        "collapsed": true
      },
      "cell_type": "code",
      "source": "df_cpy[df_cpy['spacegroup']==12]['alpha'].unique()",
      "execution_count": null,
      "outputs": []
    },
    {
      "metadata": {
        "_cell_guid": "45c14a2f-0f9e-4754-9fd4-73ec0a499ea0",
        "_uuid": "0e3601660ff557b0241aebfc8ee922fab4089d3c"
      },
      "cell_type": "markdown",
      "source": "So in space group 12, we see that gamma and alpha takes only one value (90), while beta takes (104,105 and 106) (ie. not 90). a,b,c are not equal, while E0 takes values from 0 - 0.4 while Eg takes on values from 0-4 centered around 2 eV. The compositions of aluminium, gallium and indium take compositions from 0-1. So there is no particular preferece for the compositions to be in particular spacegroups"
    },
    {
      "metadata": {
        "_cell_guid": "d0fcba29-388b-4b55-958b-6e9de3e69661",
        "_uuid": "08855d0362a64900331f8bc41bb99f1ea4efc070",
        "trusted": false,
        "collapsed": true
      },
      "cell_type": "code",
      "source": "#plt.subplots(figsize=(15,12))\ndf_cpy[df_cpy['spacegroup']==33].hist(figsize=(12,12),column=crystal_vectors_withbandandenergy)\n",
      "execution_count": null,
      "outputs": []
    },
    {
      "metadata": {
        "collapsed": true,
        "_uuid": "d84fe1000be430b49e78a854d3955198303b825a",
        "_cell_guid": "142b4926-4f83-476e-9210-9680dd5b7273",
        "trusted": false
      },
      "cell_type": "code",
      "source": "",
      "execution_count": null,
      "outputs": []
    },
    {
      "metadata": {
        "collapsed": true,
        "_uuid": "8d10d476d78aa338899c5b8c264232e2fc93e22f",
        "_cell_guid": "75c1b9e7-f9b3-46fb-903b-5690f35f9295",
        "trusted": false
      },
      "cell_type": "code",
      "source": "",
      "execution_count": null,
      "outputs": []
    },
    {
      "metadata": {
        "collapsed": true,
        "_uuid": "3eb631a1a9fb2fc991b4500237625bdd0ddb6124",
        "_cell_guid": "960d357e-23bd-4d04-8d9b-5a4726ebe079",
        "trusted": false
      },
      "cell_type": "code",
      "source": "",
      "execution_count": null,
      "outputs": []
    },
    {
      "metadata": {
        "_cell_guid": "d16fbbb2-a237-422c-be68-80187fdd6413",
        "_uuid": "78a15823efddc0aa54e0db0b925d257a904cc46a",
        "trusted": false,
        "collapsed": true
      },
      "cell_type": "code",
      "source": "#plt.subplots(figsize=(15,12))\ndf_cpy[df_cpy['spacegroup']==167].hist(figsize=(12,12),column=crystal_vectors_withbandandenergy)\n",
      "execution_count": null,
      "outputs": []
    },
    {
      "metadata": {
        "_cell_guid": "56ef2788-1734-41b9-b73a-c20e81944c44",
        "_uuid": "7dc4c8990837d0b931a4ca4c9840281aa78f16ed",
        "trusted": false,
        "collapsed": true
      },
      "cell_type": "code",
      "source": "#plt.subplots(figsize=(15,12))\ndf_cpy[df_cpy['spacegroup']==194].hist(figsize=(12,12),column=crystal_vectors_withbandandenergy)\n",
      "execution_count": null,
      "outputs": []
    },
    {
      "metadata": {
        "_cell_guid": "7ac335d8-2c2b-4bdc-8525-4620e8d36fb0",
        "_uuid": "af7657c539dfa85480521ed86805feaade08c18b",
        "trusted": false,
        "collapsed": true
      },
      "cell_type": "code",
      "source": "#plt.subplots(figsize=(15,12))\ndf_cpy[df_cpy['spacegroup']==206].hist(figsize=(12,12),column=crystal_vectors_withbandandenergy)\n",
      "execution_count": null,
      "outputs": []
    },
    {
      "metadata": {
        "_cell_guid": "aa243e45-76e6-4bb7-b5a1-0e43f1bcb0e4",
        "_uuid": "c105e5706eff3d2d8f7180c2e74bc55eb5dc802f",
        "trusted": false,
        "collapsed": true
      },
      "cell_type": "code",
      "source": "#plt.subplots(figsize=(15,12))\ndf_cpy[df_cpy['spacegroup']==227].hist(figsize=(12,12),column=crystal_vectors_withbandandenergy)\n",
      "execution_count": null,
      "outputs": []
    },
    {
      "metadata": {
        "_cell_guid": "837c3abb-598e-4f66-9288-1c16525fc126",
        "_uuid": "01d08fdf5be388afc52fd14db5b09a049ea9bb89",
        "trusted": false,
        "collapsed": true
      },
      "cell_type": "code",
      "source": "df_cpy.groupby(['spacegroup'])['Eg'].describe()",
      "execution_count": null,
      "outputs": []
    },
    {
      "metadata": {
        "_cell_guid": "b2f42c05-ae97-4ce1-815d-b644fdf2ffe3",
        "_uuid": "4097220e73f804d8e0717fb5f645f67cb4a177a6",
        "trusted": false,
        "collapsed": true
      },
      "cell_type": "code",
      "source": "plt.hist(df_cpy['numatoms'])\nplt.hist(df_topredictcpy['numatoms'])",
      "execution_count": null,
      "outputs": []
    },
    {
      "metadata": {
        "collapsed": true,
        "_uuid": "f374beaab9f226e8324cabd140f6c322f7dbccb4",
        "_cell_guid": "f044a22a-9af6-425c-b19c-d89fb6c42cd1"
      },
      "cell_type": "markdown",
      "source": "So we see that the num of atoms in the training set and testing set take on same values. We can thus safely ignore the total num of atoms, because the formation energy and band gap doesnt vary with respect to varying number of total atoms as long as the composition and crystal structure remains constants. For eg, band gap of Al2O3 in space group 194 with 2 atoms of Al and 3 atoms of O would be the same as 4 atoms of Al and 6 atoms of O and so on. "
    },
    {
      "metadata": {
        "_cell_guid": "06dcd69d-d253-416d-86ac-c13357a74218",
        "_uuid": "d64c367c07ba2027527cf46c4c7be89f457273fd",
        "trusted": false,
        "collapsed": true
      },
      "cell_type": "code",
      "source": "df_cpy.head()",
      "execution_count": null,
      "outputs": []
    },
    {
      "metadata": {
        "collapsed": true,
        "_uuid": "12ab90562a2fb8cf768132d7c3479724a21a2d69",
        "_cell_guid": "4a60bd3b-8413-47cf-914c-df6bedb7e2fb",
        "trusted": false
      },
      "cell_type": "code",
      "source": "df_cpy = df_cpy.drop(['numatoms'],axis=1)\ndf_topredictcpy = df_topredictcpy.drop(['numatoms'],axis=1)",
      "execution_count": null,
      "outputs": []
    },
    {
      "metadata": {
        "collapsed": true,
        "_uuid": "0552c0fea86c198554685c50a10fa09d5f2aaeba",
        "_cell_guid": "a14194ac-fffb-446c-be73-dc6281a7d00b",
        "trusted": false
      },
      "cell_type": "code",
      "source": "df_cpy = df_cpy.drop(['id'],axis=1)\ndf_topredictcpy = df_topredictcpy.drop(['id'],axis=1)",
      "execution_count": null,
      "outputs": []
    },
    {
      "metadata": {
        "_cell_guid": "23d66d8b-6b29-47d9-b62b-60578063e0c9",
        "_uuid": "d5327a3b8ac1f7a7f227c58bf67abe5301d7f9c8",
        "trusted": false,
        "collapsed": true
      },
      "cell_type": "code",
      "source": "df_cpy.head()",
      "execution_count": null,
      "outputs": []
    },
    {
      "metadata": {
        "_cell_guid": "1994eb0a-dfc2-452f-ba22-37992d19891b",
        "_uuid": "dc4c434da5e7409f2a1f34fc50605a6ffded76ee",
        "trusted": false,
        "collapsed": true
      },
      "cell_type": "code",
      "source": "df_topredictcpy.head()",
      "execution_count": null,
      "outputs": []
    },
    {
      "metadata": {
        "_cell_guid": "96083aa2-5ab0-4c59-9ef6-5db3b096cee2",
        "_uuid": "a8d1fe149a56a9c0255de799a36d1974086f1e35"
      },
      "cell_type": "markdown",
      "source": "**Structure mapping **\n\nThe different values of spacegroup variable (12,33,167,194,206,227) are categorical values. So we have to convert them into one-hot encoding format. "
    },
    {
      "metadata": {
        "collapsed": true,
        "_uuid": "9cbf0d716d30ee378ea4755dc62cf844473148a3",
        "_cell_guid": "b65b33d6-fcb3-4844-8fa2-7b0ab21b5c6e",
        "trusted": false
      },
      "cell_type": "code",
      "source": "spacegroup_mapping = {12:1,33:2,167:3, 194:4, 206:5,227:6}",
      "execution_count": null,
      "outputs": []
    },
    {
      "metadata": {
        "collapsed": true,
        "_uuid": "19d04ffb128ba2da8ddb7e983b15000ed14c2b0a",
        "_cell_guid": "c868675c-f6cc-4814-866a-4354fa4708cb",
        "trusted": false
      },
      "cell_type": "code",
      "source": "df_cpy['structure_mapped']=df_cpy['spacegroup'].map(spacegroup_mapping)\ndf_topredictcpy['structure_mapped']=df_topredictcpy['spacegroup'].map(spacegroup_mapping)",
      "execution_count": null,
      "outputs": []
    },
    {
      "metadata": {
        "collapsed": true,
        "_uuid": "6d94013d66bce47718906047b8007c792b74837c",
        "_cell_guid": "bded6e8c-b057-4f49-9b04-8ab4c3b63cb4",
        "trusted": false
      },
      "cell_type": "code",
      "source": "df_cpy = df_cpy.drop(['spacegroup'],axis=1)\ndf_topredictcpy = df_topredictcpy.drop(['spacegroup'],axis=1)",
      "execution_count": null,
      "outputs": []
    },
    {
      "metadata": {
        "collapsed": true,
        "_uuid": "8b9037541d3da04cc9d527ae965f5f2e92270fb2",
        "_cell_guid": "8b7ae05b-86bc-4d53-947b-5dd086d1a19f",
        "trusted": false
      },
      "cell_type": "code",
      "source": "one_hot = pd.get_dummies(df_cpy['structure_mapped'],columns=['sg12','sg33','sg167','sg194','sg206','sg227'])\none_hot_topredict = pd.get_dummies(df_topredictcpy['structure_mapped'],columns=['sg12','sg33','sg167','sg194','sg206','sg227'])",
      "execution_count": null,
      "outputs": []
    },
    {
      "metadata": {
        "collapsed": true,
        "_uuid": "7373207b5aaae980586fda608caecacdd7ea7cec",
        "_cell_guid": "85fec38c-d21e-4316-ade1-a886a6dae233",
        "trusted": false
      },
      "cell_type": "code",
      "source": "df_cpy = df_cpy.join(one_hot)\ndf_topredictcpy = df_topredictcpy.join(one_hot_topredict)",
      "execution_count": null,
      "outputs": []
    },
    {
      "metadata": {
        "collapsed": true,
        "_uuid": "df33e2d07cd216daa1b851f0ce8c6b41aedcb2ae",
        "_cell_guid": "beb00aa9-e574-46ae-abae-7e838c20b0e5",
        "trusted": false
      },
      "cell_type": "code",
      "source": "df_cpy.rename(columns={1: 'sg12', 2: 'sg33',3: 'sg167',4: 'sg194',5: 'sg206',6: 'sg227'},inplace=True)\ndf_topredictcpy.rename(columns={1: 'sg12', 2: 'sg33',3: 'sg167',4: 'sg194',5: 'sg206',6: 'sg227'},inplace=True)",
      "execution_count": null,
      "outputs": []
    },
    {
      "metadata": {
        "collapsed": true,
        "_uuid": "1fab583a5258a969992d9c572b984dab0c5d554b",
        "_cell_guid": "521f195e-8527-4b41-9ca4-cfd633cf6d8b",
        "trusted": false
      },
      "cell_type": "code",
      "source": "df_cpy = df_cpy.drop(['structure_mapped'],axis=1)\ndf_topredictcpy = df_topredictcpy.drop(['structure_mapped'],axis=1)",
      "execution_count": null,
      "outputs": []
    },
    {
      "metadata": {
        "_cell_guid": "afbf81a5-329f-4774-816c-bf270fe691f1",
        "_uuid": "3594a713ed64610b14f9131e4bf276f5649abe4c",
        "trusted": false,
        "collapsed": true
      },
      "cell_type": "code",
      "source": "df_cpy.head()",
      "execution_count": null,
      "outputs": []
    },
    {
      "metadata": {
        "_cell_guid": "4703d1e7-b6ad-494e-8f55-3d7cc31143a9",
        "_uuid": "a81720a08b9a9ca513a7f51d4601f02dbd5f8739",
        "trusted": false,
        "collapsed": true
      },
      "cell_type": "code",
      "source": "df_topredictcpy.head()",
      "execution_count": null,
      "outputs": []
    },
    {
      "metadata": {
        "_cell_guid": "4ea93a82-e841-4593-934d-c0999e3cd681",
        "_uuid": "538be8a6c3a7dc139b88aa25b77262f19cd6b67b"
      },
      "cell_type": "markdown",
      "source": "**Feature Scaling**\n\nNow we have manipulated the data and converted all inputs into the parameters we want to input in the ML model. However, the dataset remains a bit skewed wrt to the range of values the features take. For eg. a takes a max value of ~25, and gamma takes on 120 while the elemental compositions take on a maximum value of 1. This leads to a problem while the algorithms try to find the minimum using gradient descent. So we feature scale the values so that all features take on values from 0-1. But since features a, b,c are of the same type  and alpha,beta and gamma are of the same type, we need to maintain the relative ratios (ie a:b, alpha:beta etc). So, we are going to feature scale the lattice vectors with  a same scale and angles with a same scale."
    },
    {
      "metadata": {
        "collapsed": true,
        "_uuid": "20ed42e8a15f7f1367f7e57622cd3b8ad9bccb7b",
        "_cell_guid": "a25a5464-2205-4268-8582-1cb1a6754045",
        "trusted": false
      },
      "cell_type": "code",
      "source": "",
      "execution_count": null,
      "outputs": []
    },
    {
      "metadata": {
        "collapsed": true,
        "_uuid": "97d462ed0ef002c5ef9a97c179f51a7bf75e613f",
        "_cell_guid": "8e041d25-f4f7-4287-9472-239e599624a0",
        "trusted": false
      },
      "cell_type": "code",
      "source": "length_max = max(max(df_cpy['a']),max(df_cpy['b']),max(df_cpy['c']))\nangle_max=max(max(df_cpy['alpha']),max(df_cpy['beta']),max(df_cpy['gamma']))",
      "execution_count": null,
      "outputs": []
    },
    {
      "metadata": {
        "collapsed": true,
        "_uuid": "374c6b945e19d20ccb0548e5fbc725bfc215e378",
        "_cell_guid": "79f68773-aa21-4d6c-bf0b-ceb1636d2360",
        "trusted": false
      },
      "cell_type": "code",
      "source": "",
      "execution_count": null,
      "outputs": []
    },
    {
      "metadata": {
        "_cell_guid": "be8b5b07-4784-4be3-8df6-91108389d1e5",
        "_uuid": "a975fb251dcfaecf15cd88155089906cd25b830d",
        "trusted": false,
        "collapsed": true
      },
      "cell_type": "code",
      "source": "angle_max",
      "execution_count": null,
      "outputs": []
    },
    {
      "metadata": {
        "collapsed": true,
        "_uuid": "f81d0f15cbfc3be76336b1983927752f6f6bda04",
        "_cell_guid": "b05cf501-05a8-49c6-9a16-b56281592364",
        "trusted": false
      },
      "cell_type": "code",
      "source": "df_cpy['alpha_reduced'] = df_cpy['alpha']/(angle_max)\ndf_cpy['beta_reduced'] = df_cpy['beta']/(angle_max)\ndf_cpy['gamma_reduced'] = df_cpy['gamma']/(angle_max)\ndf_topredictcpy['alpha_reduced'] = df_topredictcpy['alpha']/(angle_max)\ndf_topredictcpy['beta_reduced'] = df_topredictcpy['beta']/(angle_max)\ndf_topredictcpy['gamma_reduced'] = df_topredictcpy['gamma']/(angle_max)\ndf_cpy['a_reduced'] = df_cpy['a']/(length_max)\ndf_cpy['b_reduced'] = df_cpy['b']/(length_max)\ndf_cpy['c_reduced'] = df_cpy['c']/(length_max)\ndf_topredictcpy['a_reduced'] = df_topredictcpy['a']/(length_max)\ndf_topredictcpy['b_reduced'] = df_topredictcpy['b']/(length_max)\ndf_topredictcpy['c_reduced'] = df_topredictcpy['c']/(length_max)                                                                           ",
      "execution_count": null,
      "outputs": []
    },
    {
      "metadata": {
        "_cell_guid": "13ff14c0-2c50-4dd6-be5f-3776e66626a5",
        "_uuid": "807923c925bcebf148226a3cc6914f16a8c619a5",
        "trusted": false,
        "collapsed": true
      },
      "cell_type": "code",
      "source": "df_cpy.head()",
      "execution_count": null,
      "outputs": []
    },
    {
      "metadata": {
        "collapsed": true,
        "_uuid": "52f4edc1d6665b04aa5531f31017fea8db976aab",
        "_cell_guid": "a2e595c2-03b3-43d5-8519-74de3d322f29",
        "trusted": false
      },
      "cell_type": "code",
      "source": "df_cpy = df_cpy.drop(['alpha','beta','gamma'],axis=1)\ndf_topredictcpy = df_topredictcpy.drop(['alpha','beta','gamma'],axis=1)",
      "execution_count": null,
      "outputs": []
    },
    {
      "metadata": {
        "collapsed": true,
        "_uuid": "9a111b8728f9f611e87c7e95dfef6f9d6fc32652",
        "_cell_guid": "654fd99f-22ef-4f4e-a6ce-149686c09e53",
        "trusted": false
      },
      "cell_type": "code",
      "source": "df_cpy = df_cpy.drop(['a','b','c'],axis=1)\ndf_topredictcpy = df_topredictcpy.drop(['a','b','c'],axis=1)",
      "execution_count": null,
      "outputs": []
    },
    {
      "metadata": {
        "collapsed": true,
        "_uuid": "ff28ea89ed4301f4e374168041bd7160c3b4ed7d",
        "_cell_guid": "1f90c4af-85d2-4701-a9a4-37198919634a"
      },
      "cell_type": "markdown",
      "source": "Now all our features have values in the range 0 - 1. Now lets go ahead and look at the distributions of the features with the reduced dimensions for a random spacegroup."
    },
    {
      "metadata": {
        "collapsed": true,
        "_uuid": "14cedf68cb2004369078f4d55caf6dbd355a4f0f",
        "_cell_guid": "605645ac-13f4-4697-ab39-f5e635321140",
        "trusted": false
      },
      "cell_type": "code",
      "source": "crystal_vectors_withbandandenergy_reduced = ['a_reduced','b_reduced','c_reduced','alpha_reduced','beta_reduced','gamma_reduced','Eg','E0','perin','peral','perga']",
      "execution_count": null,
      "outputs": []
    },
    {
      "metadata": {
        "_cell_guid": "97d067ba-2e53-4548-8e1d-62a9f375f259",
        "_uuid": "57a43c7ba847395efd829472ce3876b436b9da19",
        "trusted": false,
        "collapsed": true
      },
      "cell_type": "code",
      "source": "#plt.subplots(figsize=(15,12))\ndf_cpy[df_cpy['sg227']==1].hist(figsize=(12,12),column=crystal_vectors_withbandandenergy_reduced)\n",
      "execution_count": null,
      "outputs": []
    },
    {
      "metadata": {
        "_cell_guid": "659293cc-c36b-4d7d-a827-0fbe614422d7",
        "_uuid": "83dbba00789e82ccbfb8791850ae6c7b83f33da8",
        "trusted": false,
        "collapsed": true
      },
      "cell_type": "code",
      "source": "df_cpy.head()",
      "execution_count": null,
      "outputs": []
    },
    {
      "metadata": {
        "_cell_guid": "edf182ee-bd65-4aea-a4f4-0a32450e0375",
        "_uuid": "db8fbe30e4bd8abb19c8a8f0774d763cae445e15",
        "trusted": false,
        "collapsed": true
      },
      "cell_type": "code",
      "source": "df_topredictcpy.head()",
      "execution_count": null,
      "outputs": []
    },
    {
      "metadata": {
        "collapsed": true,
        "_uuid": "5440246b5958d8ec356387d4dae9dca1ef6b2e0c",
        "_cell_guid": "551e186d-a284-4b32-966c-1d545b72f1b1",
        "trusted": false
      },
      "cell_type": "code",
      "source": "band = df_cpy['Eg']\nenergy = df_cpy['E0']",
      "execution_count": null,
      "outputs": []
    },
    {
      "metadata": {
        "collapsed": true,
        "_uuid": "14797a0a7ed2b3b51cab2d7cd64f9d896330f71d",
        "_cell_guid": "8c200a90-3c11-4a50-b213-412d9a76477c",
        "trusted": false
      },
      "cell_type": "code",
      "source": "df_cpy = df_cpy.drop(['Eg','E0'],axis=1)",
      "execution_count": null,
      "outputs": []
    },
    {
      "metadata": {
        "_cell_guid": "2777955e-a0c6-42bf-8d4e-638fd041502d",
        "_uuid": "1c0dd0c109ba103e8c8575c3e9aed1ba471ccad7",
        "trusted": false,
        "collapsed": true
      },
      "cell_type": "code",
      "source": "df_cpy.head()",
      "execution_count": null,
      "outputs": []
    },
    {
      "metadata": {
        "_cell_guid": "6c913808-c178-4be0-bba0-27ebc729b2eb",
        "_uuid": "1174121161bfc45fd51f1a5cfaf19193a5646c25"
      },
      "cell_type": "markdown",
      "source": "**Running the ML algorithms:**\nNow we have manipulated the data to feed into the algorithm. So we are going to split the dataset into training and testing sets. Since we have 2 target variables: formation enthalpy and band gap, we have to run algorithms for each target variable"
    },
    {
      "metadata": {
        "_cell_guid": "b70ada2a-83ac-4cfd-b1b8-c830de197f28",
        "_uuid": "76a37931ece031ec70d32d2ce1890e7066df4b02",
        "trusted": false,
        "collapsed": true
      },
      "cell_type": "code",
      "source": "from sklearn.cross_validation import train_test_split\nfrom sklearn.tree import DecisionTreeRegressor\nfrom sklearn.linear_model import LinearRegression\nfrom sklearn.naive_bayes import GaussianNB\nfrom sklearn.kernel_ridge import KernelRidge\nfrom sklearn.svm import SVR\nfrom sklearn.neural_network import  MLPRegressor\nfrom sklearn.neighbors import KNeighborsRegressor\nfrom sklearn.ensemble import RandomForestRegressor\n\nX_train,X_test,Y_train,Y_test = train_test_split(df_cpy,band,test_size=0.2,random_state = 42)",
      "execution_count": null,
      "outputs": []
    },
    {
      "metadata": {
        "_cell_guid": "c46322b1-532c-4d07-be29-5cb1119d3a16",
        "_uuid": "6ea36ef750f789fec7dc47ca789b48ff01ab39af",
        "trusted": false,
        "collapsed": true
      },
      "cell_type": "code",
      "source": "print (Y_test.shape)",
      "execution_count": null,
      "outputs": []
    },
    {
      "metadata": {
        "_cell_guid": "31b7e7f7-394c-4764-9829-c19bd86fa677",
        "_uuid": "dcd0fb6be12bc84db5401c938dfb8645f89254d9",
        "trusted": false,
        "collapsed": true
      },
      "cell_type": "code",
      "source": "sns.distplot(Y_train)",
      "execution_count": null,
      "outputs": []
    },
    {
      "metadata": {
        "_cell_guid": "95ddec04-da4d-48e4-b71c-a07da9bd9077",
        "_uuid": "9d2d65745c90fdcfb9905cc1c84850e7d63fb3d1",
        "trusted": false,
        "collapsed": true
      },
      "cell_type": "code",
      "source": "sns.distplot(Y_test)",
      "execution_count": null,
      "outputs": []
    },
    {
      "metadata": {
        "_cell_guid": "8b173a22-6eb8-4872-8598-d7831ec21515",
        "_uuid": "5e2d3947eac2290d2aa48187fcd7eb2480cf6390"
      },
      "cell_type": "markdown",
      "source": "We see that the training and testing target variable (band gap) have similar distributions. So the training and testing sets are good statistical samples of the overall sample"
    },
    {
      "metadata": {
        "collapsed": true,
        "_uuid": "0213d364aa67e50eb4b7f7c424cb75712033d98c",
        "_cell_guid": "8848e0c6-50ae-4ba0-bd42-96ad6d7a7b2c",
        "trusted": false
      },
      "cell_type": "code",
      "source": "#Y_test = np.array(Y_test)",
      "execution_count": null,
      "outputs": []
    },
    {
      "metadata": {
        "_cell_guid": "3a6ddda3-2f8a-4568-8ff9-7c1012b183ed",
        "_uuid": "0e702561e793674e86d401468f0f5ccec75fffac",
        "trusted": false,
        "collapsed": true
      },
      "cell_type": "code",
      "source": "print (X_train.shape,X_test.shape)",
      "execution_count": null,
      "outputs": []
    },
    {
      "metadata": {
        "collapsed": true,
        "_uuid": "d23e8833fe8bd2558ad671a7db688966249221c1",
        "_cell_guid": "e9be7fc4-901c-4434-82b9-a0a87a02cc89",
        "trusted": false
      },
      "cell_type": "code",
      "source": "clf_tree_band = DecisionTreeRegressor(random_state = 42, max_depth=15,min_samples_split=2)\n#clf_gauss = GaussianNB()\nclf_kernal_band = KernelRidge(alpha=1)\nclf_linear_band = LinearRegression()\nclf_svr_band = SVR()\nclf_neural_band = MLPRegressor(hidden_layer_sizes=10, solver=\"sgd\",early_stopping=True)\nclf_neigh_band = KNeighborsRegressor(n_neighbors=10)\nclf_random_band = RandomForestRegressor(n_estimators=200)",
      "execution_count": null,
      "outputs": []
    },
    {
      "metadata": {
        "_cell_guid": "b94365eb-1133-4840-919b-850181a0d3c2",
        "_uuid": "6dafcfe6d28d573afb8169cb670930d5b97f7031",
        "trusted": false,
        "collapsed": true
      },
      "cell_type": "code",
      "source": "clf_tree_band.fit(X_train,Y_train)\n#clf_gauss.fit(X_train,Y_train)\nclf_kernal_band.fit(X_train,Y_train)\nclf_linear_band.fit(X_train,Y_train)\nclf_svr_band.fit(X_train,Y_train)\nclf_neural_band.fit(X_train,Y_train)\nclf_neigh_band.fit(X_train,Y_train)\nclf_random_band.fit(X_train,Y_train)",
      "execution_count": null,
      "outputs": []
    },
    {
      "metadata": {
        "collapsed": true,
        "_uuid": "3e12e8134ff7b8cf2a81551440977da0d6f3cc52",
        "_cell_guid": "375a6800-cfd7-41d5-a702-691e33da7716",
        "trusted": false
      },
      "cell_type": "code",
      "source": "pred_tree_band = clf_tree_band.predict(X_test)\npred_kernal_band = clf_kernal_band.predict(X_test)\npred_linear_band = clf_linear_band.predict(X_test)\npred_svr_band = clf_svr_band.predict(X_test)\npred_neural_band = clf_neural_band.predict(X_test)\npred_neigh_band = clf_neigh_band.predict(X_test)\npred_random_band = clf_random_band.predict(X_test)",
      "execution_count": null,
      "outputs": []
    },
    {
      "metadata": {
        "collapsed": true,
        "_uuid": "95a67db5564ece49d5c6dbf68ebe40ae5b966ad6",
        "_cell_guid": "499d31ed-fd9d-44ec-9b0c-8dcba8a340a4",
        "trusted": false
      },
      "cell_type": "code",
      "source": "#pred=  np.array(pred)\nfrom sklearn.metrics import  mean_squared_error",
      "execution_count": null,
      "outputs": []
    },
    {
      "metadata": {
        "_cell_guid": "3d93c5d3-88de-4ab6-b7eb-e24afd4cbafc",
        "_uuid": "443b429218273f4c56104ed920c82a759b922657",
        "scrolled": true,
        "trusted": false,
        "collapsed": true
      },
      "cell_type": "code",
      "source": "#clf_tree.score(pred,Y_test)\nprint(1- mean_squared_error(Y_test,pred_tree_band))\nprint(1- mean_squared_error(Y_test,pred_kernal_band))\nprint(1- mean_squared_error(Y_test,pred_linear_band))\nprint(1- mean_squared_error(Y_test,pred_svr_band))\nprint(1- mean_squared_error(Y_test,pred_neural_band))\nprint (1- mean_squared_error(Y_test,pred_neigh_band))\nprint (1- mean_squared_error(Y_test,pred_random_band))",
      "execution_count": null,
      "outputs": []
    },
    {
      "metadata": {
        "_cell_guid": "d0b48bd3-ff4b-48c0-bfa9-a89cf6e8cf0f",
        "_uuid": "f005147354d9c8ddc54690f904251717b593a39f"
      },
      "cell_type": "markdown",
      "source": "We see that random forest algorithms gives us the best results, although the accuracy could have been better. One possible way to imporve accuracy can be to increase the number of features and number of datapoints"
    },
    {
      "metadata": {
        "collapsed": true,
        "_uuid": "d7bbf09544f7e688b3af105a17ed83207d5565e0",
        "_cell_guid": "dfae4c3d-10cf-446a-8477-173573aca069",
        "trusted": false
      },
      "cell_type": "code",
      "source": "Y_test = np.array(Y_test)\nfrom sklearn.metrics import mean_absolute_error",
      "execution_count": null,
      "outputs": []
    },
    {
      "metadata": {
        "_cell_guid": "80caf2c6-9eaa-4c11-a8f6-d9c3fd9e7b27",
        "_uuid": "ac77c533293795966350cf9d7544e42515ddfbf4",
        "trusted": false,
        "collapsed": true
      },
      "cell_type": "code",
      "source": "err_array=[];\nfor i in range(len(pred_random_band)):\n    err = abs(pred_random_band[i]-Y_test[i])\n    err_array.append(err)\nmax_error = max(err_array)   \nprint (np.mean(err_array))\nprint (max_error)  \n\n    ",
      "execution_count": null,
      "outputs": []
    },
    {
      "metadata": {
        "_cell_guid": "b254f7f2-a752-4b98-8256-d9cab6c1a8e6",
        "_uuid": "42c253f6512fdd3d5592992ce0974b651a075c64",
        "trusted": false,
        "collapsed": true
      },
      "cell_type": "code",
      "source": "sns.distplot(err_array,bins=100)\nplt.title(\"Distribution plot of the error in prediction for band gap\")\nplt.xlabel (\"Error in prediction (eV)\")",
      "execution_count": null,
      "outputs": []
    },
    {
      "metadata": {
        "_cell_guid": "226d1eff-3d9a-4590-88f4-5f8a7b1a0157",
        "_uuid": "bff7359264979ec828b5bcc889bac771f17a6348",
        "trusted": false,
        "collapsed": true
      },
      "cell_type": "code",
      "source": " plt.subplots(figsize=(25,7))\nsns.barplot(df_cpy.columns,clf_random_band.feature_importances_)",
      "execution_count": null,
      "outputs": []
    },
    {
      "metadata": {
        "collapsed": true,
        "_uuid": "d92c2b510eecefe2f3fc15e4268da97457958600",
        "_cell_guid": "af505585-5685-489d-9d74-54f042642e25",
        "trusted": false
      },
      "cell_type": "code",
      "source": "",
      "execution_count": null,
      "outputs": []
    },
    {
      "metadata": {
        "collapsed": true,
        "_uuid": "d481a1120740e8d9129d844dbcd9e1fb333081e3",
        "_cell_guid": "a1317de1-dc5e-49a3-8cb9-68219e7f6618",
        "trusted": false
      },
      "cell_type": "code",
      "source": "from sklearn.cross_validation import train_test_split\nfrom sklearn.tree import DecisionTreeRegressor\nfrom sklearn.linear_model import LinearRegression\nfrom sklearn.naive_bayes import GaussianNB\nfrom sklearn.kernel_ridge import KernelRidge\nfrom sklearn.svm import SVR\nfrom sklearn.neural_network import  MLPRegressor\nfrom sklearn.ensemble import RandomForestRegressor\n\nX_train_enthalpy,X_test_enthalpy,Y_train_enthalpy,Y_test_enthalpy = train_test_split(df_cpy,energy,test_size=0.2,random_state = 42)",
      "execution_count": null,
      "outputs": []
    },
    {
      "metadata": {
        "collapsed": true,
        "_uuid": "ecc4cfa291697ec776ca994ba2b8a180a7f7210c",
        "_cell_guid": "a6b96372-3f06-4ea7-922f-beefe12e379b",
        "trusted": false
      },
      "cell_type": "code",
      "source": "clf_tree_enthalpy = DecisionTreeRegressor(random_state = 42, max_depth=10,min_samples_split=2)\n#clf_gauss = GaussianNB()\nclf_kernal_enthalpy = KernelRidge(alpha=1)\nclf_linear_enthalpy = LinearRegression()\nclf_svr_enthalpy = SVR()\nclf_neural_enthalpy = MLPRegressor(hidden_layer_sizes=10, solver=\"sgd\",early_stopping=True)\nclf_random_enthalpy = RandomForestRegressor(n_estimators=100)",
      "execution_count": null,
      "outputs": []
    },
    {
      "metadata": {
        "_cell_guid": "799e8517-c103-4f4e-ac5b-0f7d68108935",
        "_uuid": "06a6eb13418bede3540842997c600b9d06f4355f",
        "trusted": false,
        "collapsed": true
      },
      "cell_type": "code",
      "source": "clf_tree_enthalpy.fit(X_train_enthalpy,Y_train_enthalpy)\n#clf_gauss.fit(X_train,Y_train)\nclf_kernal_enthalpy.fit(X_train_enthalpy,Y_train_enthalpy)\nclf_linear_enthalpy.fit(X_train_enthalpy,Y_train_enthalpy)\nclf_svr_enthalpy.fit(X_train_enthalpy,Y_train_enthalpy)\nclf_neural_enthalpy.fit(X_train_enthalpy,Y_train_enthalpy)\nclf_random_enthalpy.fit(X_train_enthalpy,Y_train_enthalpy)",
      "execution_count": null,
      "outputs": []
    },
    {
      "metadata": {
        "collapsed": true,
        "_uuid": "3b1a3a848a2d75cfbfa10d3955cb7b324a29d20b",
        "_cell_guid": "31f3cb31-dab9-42b3-9aa7-fd1016debe9e",
        "trusted": false
      },
      "cell_type": "code",
      "source": "pred_tree_enthalpy = clf_tree_enthalpy.predict(X_test_enthalpy)\npred_kernal_enthalpy = clf_kernal_enthalpy.predict(X_test_enthalpy)\npred_linear_enthalpy = clf_linear_enthalpy.predict(X_test_enthalpy)\npred_svr_enthalpy = clf_svr_enthalpy.predict(X_test_enthalpy)\npred_neural_enthalpy = clf_neural_enthalpy.predict(X_test_enthalpy)\npred_random_enthalpy = clf_random_enthalpy.predict(X_test_enthalpy)",
      "execution_count": null,
      "outputs": []
    },
    {
      "metadata": {
        "_cell_guid": "4cf9b81c-afac-4eb5-a6c7-64d143311d41",
        "_uuid": "6e18adb8172400039e2f0b26274776e1eb1b3a6e",
        "trusted": false,
        "collapsed": true
      },
      "cell_type": "code",
      "source": "print(1- mean_squared_error(Y_test_enthalpy,pred_tree_enthalpy))\nprint(1- mean_squared_error(Y_test_enthalpy,pred_kernal_enthalpy))\nprint(1- mean_squared_error(Y_test_enthalpy,pred_linear_enthalpy))\nprint(1- mean_squared_error(Y_test_enthalpy,pred_svr_enthalpy))\n#print(1- mean_squared_error(Y_test_enthalpy,pred_neigh_enthalpy))\nprint(1- mean_squared_error(Y_test_enthalpy,pred_neural_enthalpy))\nprint(1- mean_squared_error(Y_test_enthalpy,pred_random_enthalpy))",
      "execution_count": null,
      "outputs": []
    },
    {
      "metadata": {
        "collapsed": true,
        "_uuid": "512d6403dfb54bc30ad1919fbfe937b80a64c992",
        "_cell_guid": "665fffa1-e962-4bc0-ada8-6378bc093c34",
        "trusted": false
      },
      "cell_type": "code",
      "source": "Y_test_enthalpy= np.array(Y_test_enthalpy)",
      "execution_count": null,
      "outputs": []
    },
    {
      "metadata": {
        "_cell_guid": "f6d4ae2d-e36e-4e20-9f80-e8f0c93db857",
        "_uuid": "5378b71943d4c123812fc45ade54b64902d4a1be",
        "trusted": false,
        "collapsed": true
      },
      "cell_type": "code",
      "source": "err_array=[];\nfor i in range(len(pred_random_enthalpy)):\n    err = abs(pred_random_enthalpy[i]-Y_test_enthalpy[i])\n    err_array.append(err)\nmax_error = max(err_array)   \nprint (np.mean(err_array))\nprint (max_error)  ",
      "execution_count": null,
      "outputs": []
    },
    {
      "metadata": {
        "_cell_guid": "1840d283-be07-4d11-a9a9-c277f3014498",
        "_uuid": "a06e2fa9dcd7dc1341e33ab413be62d617c4b8a0",
        "trusted": false,
        "collapsed": true
      },
      "cell_type": "code",
      "source": "sns.distplot(err_array,bins=100)\nplt.title(\"Distribution plot of the error in prediction for enthalpy\")\nplt.xlabel (\"Error in prediction (eV)\")",
      "execution_count": null,
      "outputs": []
    },
    {
      "metadata": {
        "_cell_guid": "94497172-37d0-48b8-8c2e-a2cb071d5dc3",
        "_uuid": "c441d276e3f1d97633413df47a277ab3b5e5c07e",
        "trusted": false,
        "collapsed": true
      },
      "cell_type": "code",
      "source": " plt.subplots(figsize=(25,7))\nsns.barplot(df_cpy.columns,clf_random_enthalpy.feature_importances_)",
      "execution_count": null,
      "outputs": []
    },
    {
      "metadata": {
        "_cell_guid": "b9d80055-6238-4011-a048-a953e740d8c6",
        "_uuid": "e87a42566f16f8e4afbe10eb72c596d8a8081381"
      },
      "cell_type": "markdown",
      "source": "So, based on the above fitting we see that indium compositions strongly affects both the formation enthalpies and band gap values (band gap more than formation enthalpies). Similarly, gallium and aluminium compositions affect the formation enthalpies but not so much for the band gap. However, what is surprising is that the lattice parameter \"c\" contributes very strongly to the formation enthalpy. This is likely a pure artifact of the dataset."
    },
    {
      "metadata": {
        "_cell_guid": "250e7912-3a94-4723-b1f5-fbbce22f5088",
        "_uuid": "73226b86ff18a0c3ed34c9111d7fd91b33ca0f0a",
        "trusted": false,
        "collapsed": true
      },
      "cell_type": "code",
      "source": "f,ax=plt.subplots(1,2,figsize=(12,4))\n#ax[0].plot(df_cpy['perin'],df_cpy['E0'],'ro')\nax[0].plot(Y_test,pred_random_band,'ro')\n#plt.plot(Y_test,Y_test,'k--')\nax[0].errorbar(Y_test,Y_test,xerr=0,yerr = 0.15)\nax[0].set_xlabel(\"Testing set for band gap (eV)\")\nax[0].set_ylabel(\"Predicted values for the test set for band gap (eV)\")\nax[1].plot(Y_test_enthalpy,pred_random_enthalpy,'ro')\n#plt.plot(Y_test,Y_test,'k--')\nax[1].errorbar(Y_test_enthalpy,Y_test_enthalpy,xerr=0,yerr = 0.03)\nax[1].set_xlabel(\"Testing set for formation enthalpy (eV)\")\nax[1].set_ylabel(\"Predicted values for the test set for formation enthalpy (eV)\")",
      "execution_count": null,
      "outputs": []
    },
    {
      "metadata": {
        "collapsed": true,
        "_uuid": "afb7404291a6fe2b2bc827fc0c11734630ee8f85",
        "_cell_guid": "d1d9c528-1dfa-4565-beeb-3ea834396449",
        "trusted": false
      },
      "cell_type": "code",
      "source": "band_to_predict= clf_random_band.predict(df_topredictcpy)",
      "execution_count": null,
      "outputs": []
    },
    {
      "metadata": {
        "collapsed": true,
        "_uuid": "253c8d62e76eb98b61c3ae96ebb1b27d743bad42",
        "_cell_guid": "605975df-8164-4f8a-be88-33d6184dc219",
        "trusted": false
      },
      "cell_type": "code",
      "source": "enthalpy_to_predict = clf_random_enthalpy.predict(df_topredictcpy)",
      "execution_count": null,
      "outputs": []
    },
    {
      "metadata": {
        "_cell_guid": "9c01b514-296c-4aca-bd91-50c7ab883c86",
        "_uuid": "d9b716bed4a7b72ebed55e6ad8f57a9d0679916d",
        "trusted": false,
        "collapsed": true
      },
      "cell_type": "code",
      "source": "sns.distplot(band_to_predict,kde=False)\nplt.xlabel(\"Band gap for the predicted set\")",
      "execution_count": null,
      "outputs": []
    },
    {
      "metadata": {
        "_cell_guid": "68f5525b-f11f-43da-b551-b72d9c53ff45",
        "_uuid": "ef6d836a16275da2de57d71b601e0a7e1b6d1eae",
        "trusted": false,
        "collapsed": true
      },
      "cell_type": "code",
      "source": "sns.distplot(enthalpy_to_predict,kde=False)\nplt.xlabel(\"Formation enthalpies for the predicted set\")",
      "execution_count": null,
      "outputs": []
    }
  ],
  "metadata": {
    "kernelspec": {
      "display_name": "Python 3",
      "language": "python",
      "name": "python3"
    },
    "language_info": {
      "nbconvert_exporter": "python",
      "file_extension": ".py",
      "codemirror_mode": {
        "version": 3,
        "name": "ipython"
      },
      "version": "3.6.3",
      "mimetype": "text/x-python",
      "name": "python",
      "pygments_lexer": "ipython3"
    }
  },
  "nbformat": 4,
  "nbformat_minor": 1
}